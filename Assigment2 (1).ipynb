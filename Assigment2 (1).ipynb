{
 "cells": [
  {
   "cell_type": "code",
   "execution_count": 65,
   "metadata": {
    "scrolled": true
   },
   "outputs": [],
   "source": [
    "import numpy as np\n",
    "import igl\n",
    "import meshplot as mp\n",
    "import math"
   ]
  },
  {
   "cell_type": "code",
   "execution_count": 5,
   "metadata": {
    "scrolled": true
   },
   "outputs": [],
   "source": [
    "# Utility function to generate a tet grid\n",
    "# n is a 3-tuple with the number of cell in every direction\n",
    "# mmin/mmax are the grid bounding box corners\n",
    "\n",
    "def tet_grid(n, mmin, mmax):\n",
    "    nx = n[0]\n",
    "    ny = n[1]\n",
    "    nz = n[2]\n",
    "    \n",
    "    delta = mmax-mmin\n",
    "    \n",
    "    deltax = delta[0]/(nx-1)\n",
    "    deltay = delta[1]/(ny-1)\n",
    "    deltaz = delta[2]/(nz-1)\n",
    "    \n",
    "    T = np.zeros(((nx-1)*(ny-1)*(nz-1)*6, 4), dtype=np.int64)\n",
    "    V = np.zeros((nx*ny*nz, 3))\n",
    "\n",
    "    mapping = -np.ones((nx, ny, nz), dtype=np.int64)\n",
    "\n",
    "\n",
    "    index = 0\n",
    "    for i in range(nx):\n",
    "        for j in range(ny):\n",
    "            for k in range(nz):\n",
    "                mapping[i, j, k] = index\n",
    "                V[index, :] = [i*deltax, j*deltay, k*deltaz]\n",
    "                index += 1\n",
    "    assert(index == V.shape[0])\n",
    "    \n",
    "    tets = np.array([\n",
    "        [0,1,3,4],\n",
    "        [5,2,6,7],\n",
    "        [4,1,5,3],\n",
    "        [4,3,7,5],\n",
    "        [3,1,5,2],\n",
    "        [2,3,7,5]\n",
    "    ])\n",
    "    \n",
    "    index = 0\n",
    "    for i in range(nx-1):\n",
    "        for j in range(ny-1):\n",
    "            for k in range(nz-1):\n",
    "                indices = [\n",
    "                    (i,   j,   k),\n",
    "                    (i+1, j,   k),\n",
    "                    (i+1, j+1, k),\n",
    "                    (i,   j+1, k),\n",
    "\n",
    "                    (i,   j,   k+1),\n",
    "                    (i+1, j,   k+1),\n",
    "                    (i+1, j+1, k+1),\n",
    "                    (i,   j+1, k+1),\n",
    "                ]\n",
    "                \n",
    "                for t in range(tets.shape[0]):\n",
    "                    tmp = [mapping[indices[ii]] for ii in tets[t, :]]\n",
    "                    T[index, :]=tmp\n",
    "                    index += 1\n",
    "                    \n",
    "    assert(index == T.shape[0])\n",
    "    \n",
    "    V += mmin\n",
    "    return V, T"
   ]
  },
  {
   "cell_type": "markdown",
   "metadata": {},
   "source": [
    "# Reading point cloud"
   ]
  },
  {
   "cell_type": "code",
   "execution_count": 382,
   "metadata": {
    "scrolled": false
   },
   "outputs": [
    {
     "data": {
      "application/vnd.jupyter.widget-view+json": {
       "model_id": "e6208a4106a0475a9adc70d525bcbe20",
       "version_major": 2,
       "version_minor": 0
      },
      "text/plain": [
       "Renderer(camera=PerspectiveCamera(children=(DirectionalLight(color='white', intensity=0.6, position=(5.0, -23.…"
      ]
     },
     "metadata": {},
     "output_type": "display_data"
    },
    {
     "data": {
      "text/plain": [
       "<meshplot.Viewer.Viewer at 0x1a42e98ec50>"
      ]
     },
     "execution_count": 382,
     "metadata": {},
     "output_type": "execute_result"
    }
   ],
   "source": [
    "pi, v = igl.read_triangle_mesh(\"data/cat.off\")\n",
    "pi /= 10\n",
    "ni = igl.per_vertex_normals(pi, v)\n",
    "mp.plot(pi, shading={\"point_size\": 8})\n"
   ]
  },
  {
   "cell_type": "code",
   "execution_count": 538,
   "metadata": {},
   "outputs": [],
   "source": [
    "def build_B(points):\n",
    "    B = []\n",
    "    is_empty =True\n",
    "    \n",
    "    for point in points:\n",
    "        if is_empty:\n",
    "            cur = []\n",
    "            cur = np.hstack((cur,1))\n",
    "            \n",
    "            #x,y,z\n",
    "            cur = np.hstack((cur,point[0]))\n",
    "            cur = np.hstack((cur,point[1]))\n",
    "            cur = np.hstack((cur,point[2]))\n",
    "\n",
    "            #xy,xz,yz            \n",
    "            cur = np.hstack((cur,point[0] * point[1]))\n",
    "            cur = np.hstack((cur,point[1] * point[2]))\n",
    "            cur = np.hstack((cur,point[1] * point[2]))\n",
    "\n",
    "            #x^2, y^2, z^2\n",
    "            cur = np.hstack((cur,point[0] * point[0]))\n",
    "            cur = np.hstack((cur,point[1] * point[1]))\n",
    "            cur = np.hstack((cur,point[2] * point[2]))\n",
    "            is_empty = False\n",
    "            B = np.hstack((B, cur))\n",
    "        else:\n",
    "            cur = []\n",
    "            cur = np.hstack((cur,1))\n",
    "            \n",
    "            #x,y,z\n",
    "            cur = np.hstack((cur,point[0]))\n",
    "            cur = np.hstack((cur,point[1]))\n",
    "            cur = np.hstack((cur,point[2]))\n",
    "\n",
    "            #xy,xz,yz            \n",
    "            cur = np.hstack((cur,point[0] * point[1]))\n",
    "            cur = np.hstack((cur,point[1] * point[2]))\n",
    "            cur = np.hstack((cur,point[1] * point[2]))\n",
    "\n",
    "            #x^2, y^2, z^2\n",
    "            cur = np.hstack((cur,point[0] * point[0]))\n",
    "            cur = np.hstack((cur,point[1] * point[1]))\n",
    "            cur = np.hstack((cur,point[2] * point[2]))\n",
    "            B = np.vstack((B, cur))\n",
    "    return B\n",
    "\n",
    "\n",
    "    \n",
    "\n",
    "\n",
    "def find_closed_point(point, points):\n",
    "    cur_min = math.inf\n",
    "    cur_min_point = []\n",
    "    for p in points:\n",
    "        if (np.linalg.norm(p - point) < cur_min and np.linalg.norm(p - point) > 0):\n",
    "            cur_min = np.linalg.norm(p - point)\n",
    "            cur_min_point = p\n",
    "            \n",
    "    return cur_min_point;\n",
    "    \n",
    "def add_point(points, p):\n",
    "    if points.size == 0:\n",
    "        points = np.append(points, p, axis=1)\n",
    "    else:\n",
    "        points = np.vstack((points, p))\n",
    "    \n",
    "    return points\n",
    "\n",
    "def add_eps_point(points, eps, ni, size, constraint):\n",
    "    for i in range(0, size):\n",
    "        p = points[i] + eps * ni[i]\n",
    "        \n",
    "        \n",
    "        points = add_point(points, p)\n",
    "        constraint = np.append(constraint, eps)\n",
    "        \n",
    "        eps_alt = 0.5 * eps\n",
    "        while(not np.array_equal(find_closed_point(points[i], points), p)):\n",
    "            constraint = np.delete(constraint, constraint.size - 1, axis=0)\n",
    "            points = np.delete(points, int(points.size / 3) - 1, axis=0)\n",
    "            \n",
    "            p = points[i] + eps_alt * ni[i]\n",
    "            \n",
    "            points = add_point(points, p)\n",
    "            constraint = np.append(constraint, eps_alt)\n",
    "\n",
    "            \n",
    "            \n",
    "            eps_alt = 0.5 * eps_alt\n",
    "                    \n",
    "                \n",
    "    return points, constraint\n",
    "    \n",
    "def build_W(point, points):\n",
    "    W = np.array([[]])\n",
    "    for i in range(0, int(points.size / 3)):\n",
    "        cur = []\n",
    "        #print(cur)\n",
    "        \n",
    "        for j in range(0, i):\n",
    "            cur.append(0)\n",
    "        \n",
    "        cur.append(w(np.linalg.norm([point - points[i]]), 30))\n",
    "        #print(cur)\n",
    "        \n",
    "        for j in range(i + 1, int(points.size / 3)):\n",
    "            cur.append(0)\n",
    "            \n",
    "        #print(cur)\n",
    "        W = add_point(W, [cur])\n",
    "        \n",
    "    return W\n",
    "\n",
    "def w(r, h):\n",
    "    if(r < h):\n",
    "        return pow(1 - r/h, 4) * (4 * r/h + 1)\n",
    "    else:\n",
    "        return 0\n",
    "    "
   ]
  },
  {
   "cell_type": "code",
   "execution_count": 517,
   "metadata": {
    "scrolled": false
   },
   "outputs": [],
   "source": [
    "p = pi\n",
    "\n",
    "min_index = np.argmin(p, axis = 0)\n",
    "max_index = np.argmax(p, axis = 0)\n",
    "\n",
    "min = np.array([p[min_index[0]][0], p[min_index[1]][1], p[min_index[2]][2]])\n",
    "max = np.array([p[max_index[0]][0], p[max_index[1]][1], p[max_index[2]][2]])\n",
    "\n",
    "bbox_diagonal = np.linalg.norm(max - min)\n",
    "\n",
    "eps = 0.01 * bbox_diagonal\n",
    "\n",
    "size = int(pi.size / 3)\n",
    "\n",
    "constraint = np.array([])\n",
    "\n",
    "for i in range(0, size):\n",
    "    constraint = np.append(constraint, 0)\n",
    "\n",
    "\n",
    "\n",
    "p, constraint = add_eps_point(p, eps, ni, size, constraint)\n",
    "\n",
    "\n",
    "p, constraint = add_eps_point(p, -eps, ni, size, constraint)\n",
    "    \n",
    "#mp.plot(pi, shading={\"point_size\": 4})\n",
    "#mp.plot(p, shading={\"point_size\": 4})\n",
    "\n",
    "\n",
    "#print(build_W(p[0], p))"
   ]
  },
  {
   "cell_type": "code",
   "execution_count": 518,
   "metadata": {},
   "outputs": [
    {
     "name": "stdout",
     "output_type": "stream",
     "text": [
      "[ 0.          0.          0.         ... -0.71617665 -0.71617665\n",
      " -0.71617665]\n"
     ]
    }
   ],
   "source": [
    "print(constraint)"
   ]
  },
  {
   "cell_type": "markdown",
   "metadata": {},
   "source": [
    "PART 2"
   ]
  },
  {
   "cell_type": "code",
   "execution_count": 519,
   "metadata": {
    "scrolled": true
   },
   "outputs": [
    {
     "name": "stdout",
     "output_type": "stream",
     "text": [
      "[[0. 0. 1.]\n",
      " [0. 0. 1.]\n",
      " [0. 0. 1.]\n",
      " ...\n",
      " [0. 1. 0.]\n",
      " [0. 1. 0.]\n",
      " [0. 1. 0.]]\n"
     ]
    },
    {
     "data": {
      "application/vnd.jupyter.widget-view+json": {
       "model_id": "37f78bd724eb4238b081e1188fd24015",
       "version_major": 2,
       "version_minor": 0
      },
      "text/plain": [
       "Renderer(camera=PerspectiveCamera(children=(DirectionalLight(color='white', intensity=0.6, position=(5.0, -23.…"
      ]
     },
     "metadata": {},
     "output_type": "display_data"
    },
    {
     "data": {
      "application/vnd.jupyter.widget-view+json": {
       "model_id": "d06f6365fd3647118c8a8ed4f8a42678",
       "version_major": 2,
       "version_minor": 0
      },
      "text/plain": [
       "Renderer(camera=PerspectiveCamera(children=(DirectionalLight(color='white', intensity=0.6, position=(5.0120944…"
      ]
     },
     "metadata": {},
     "output_type": "display_data"
    },
    {
     "data": {
      "text/plain": [
       "<meshplot.Viewer.Viewer at 0x1a587b0c430>"
      ]
     },
     "execution_count": 519,
     "metadata": {},
     "output_type": "execute_result"
    }
   ],
   "source": [
    "\n",
    "a =np.array([1, 1, 1])\n",
    "b = -a\n",
    "\n",
    "color = np.array([[]])\n",
    "\n",
    "for i in range(0, constraint.size):\n",
    "    if (constraint[i] > 0):\n",
    "        color = add_point(color, [[1, 0, 0]])\n",
    "    elif (constraint[i] < 0):\n",
    "        color = add_point(color, [[0, 1, 0]])\n",
    "    else:\n",
    "        color = add_point(color, [[0, 0, 1]])\n",
    "    \n",
    "print(color)\n",
    "mp.plot(pi, shading={\"point_size\": 4})\n",
    "mp.plot(p, c=color, shading={\"point_size\": 4})"
   ]
  },
  {
   "cell_type": "code",
   "execution_count": 520,
   "metadata": {},
   "outputs": [],
   "source": [
    "x, T = tet_grid((20, 20, 20), min, max)\n"
   ]
  },
  {
   "cell_type": "code",
   "execution_count": 563,
   "metadata": {},
   "outputs": [
    {
     "name": "stdout",
     "output_type": "stream",
     "text": [
      "3294\n"
     ]
    },
    {
     "ename": "LinAlgError",
     "evalue": "Singular matrix",
     "output_type": "error",
     "traceback": [
      "\u001b[1;31m---------------------------------------------------------------------------\u001b[0m",
      "\u001b[1;31mLinAlgError\u001b[0m                               Traceback (most recent call last)",
      "Cell \u001b[1;32mIn[563], line 26\u001b[0m\n\u001b[0;32m     24\u001b[0m     d \u001b[38;5;241m=\u001b[39m build_d(xi, p, d)\n\u001b[0;32m     25\u001b[0m     right \u001b[38;5;241m=\u001b[39m np\u001b[38;5;241m.\u001b[39mmatmul(BtW, d)\n\u001b[1;32m---> 26\u001b[0m     \u001b[43mnp\u001b[49m\u001b[38;5;241;43m.\u001b[39;49m\u001b[43mlinalg\u001b[49m\u001b[38;5;241;43m.\u001b[39;49m\u001b[43msolve\u001b[49m\u001b[43m(\u001b[49m\u001b[43mleft\u001b[49m\u001b[43m,\u001b[49m\u001b[43m \u001b[49m\u001b[43mright\u001b[49m\u001b[43m)\u001b[49m\n\u001b[0;32m     28\u001b[0m     \u001b[38;5;28;01mbreak\u001b[39;00m\n\u001b[0;32m     30\u001b[0m \u001b[38;5;28mprint\u001b[39m(d)\n",
      "File \u001b[1;32m<__array_function__ internals>:180\u001b[0m, in \u001b[0;36msolve\u001b[1;34m(*args, **kwargs)\u001b[0m\n",
      "File \u001b[1;32m~\\anaconda3\\lib\\site-packages\\numpy\\linalg\\linalg.py:400\u001b[0m, in \u001b[0;36msolve\u001b[1;34m(a, b)\u001b[0m\n\u001b[0;32m    398\u001b[0m signature \u001b[38;5;241m=\u001b[39m \u001b[38;5;124m'\u001b[39m\u001b[38;5;124mDD->D\u001b[39m\u001b[38;5;124m'\u001b[39m \u001b[38;5;28;01mif\u001b[39;00m isComplexType(t) \u001b[38;5;28;01melse\u001b[39;00m \u001b[38;5;124m'\u001b[39m\u001b[38;5;124mdd->d\u001b[39m\u001b[38;5;124m'\u001b[39m\n\u001b[0;32m    399\u001b[0m extobj \u001b[38;5;241m=\u001b[39m get_linalg_error_extobj(_raise_linalgerror_singular)\n\u001b[1;32m--> 400\u001b[0m r \u001b[38;5;241m=\u001b[39m \u001b[43mgufunc\u001b[49m\u001b[43m(\u001b[49m\u001b[43ma\u001b[49m\u001b[43m,\u001b[49m\u001b[43m \u001b[49m\u001b[43mb\u001b[49m\u001b[43m,\u001b[49m\u001b[43m \u001b[49m\u001b[43msignature\u001b[49m\u001b[38;5;241;43m=\u001b[39;49m\u001b[43msignature\u001b[49m\u001b[43m,\u001b[49m\u001b[43m \u001b[49m\u001b[43mextobj\u001b[49m\u001b[38;5;241;43m=\u001b[39;49m\u001b[43mextobj\u001b[49m\u001b[43m)\u001b[49m\n\u001b[0;32m    402\u001b[0m \u001b[38;5;28;01mreturn\u001b[39;00m wrap(r\u001b[38;5;241m.\u001b[39mastype(result_t, copy\u001b[38;5;241m=\u001b[39m\u001b[38;5;28;01mFalse\u001b[39;00m))\n",
      "File \u001b[1;32m~\\anaconda3\\lib\\site-packages\\numpy\\linalg\\linalg.py:89\u001b[0m, in \u001b[0;36m_raise_linalgerror_singular\u001b[1;34m(err, flag)\u001b[0m\n\u001b[0;32m     88\u001b[0m \u001b[38;5;28;01mdef\u001b[39;00m \u001b[38;5;21m_raise_linalgerror_singular\u001b[39m(err, flag):\n\u001b[1;32m---> 89\u001b[0m     \u001b[38;5;28;01mraise\u001b[39;00m LinAlgError(\u001b[38;5;124m\"\u001b[39m\u001b[38;5;124mSingular matrix\u001b[39m\u001b[38;5;124m\"\u001b[39m)\n",
      "\u001b[1;31mLinAlgError\u001b[0m: Singular matrix"
     ]
    }
   ],
   "source": [
    "B = build_B(p)\n",
    "\n",
    "\n",
    "print(p.size)\n",
    "\n",
    "a = []\n",
    "\n",
    "def build_d(xi, points, d):\n",
    "    for p in points:\n",
    "        d = np.append(d, np.linalg.norm(p - xi))\n",
    "        \n",
    "    return d\n",
    "    \n",
    "d = []\n",
    "\n",
    "for xi in x:\n",
    "    W = build_W(xi, p)\n",
    "    \n",
    "    Bt = np.transpose(B)\n",
    "    \n",
    "    BtW = np.matmul(Bt, W)\n",
    "    left = np.matmul(BtW, B)\n",
    "    \n",
    "    d = build_d(xi, p, d)\n",
    "    right = np.matmul(BtW, d)\n",
    "    np.linalg.solve(left, right)\n",
    "    \n",
    "    break\n",
    "    \n",
    "print(d)"
   ]
  },
  {
   "cell_type": "code",
   "execution_count": 560,
   "metadata": {},
   "outputs": [
    {
     "name": "stdout",
     "output_type": "stream",
     "text": [
      "[[ 1.00000000e+00  0.00000000e+00  0.00000000e+00 ...  0.00000000e+00\n",
      "   0.00000000e+00  0.00000000e+00]\n",
      " [ 1.00000000e+00 -1.00000000e-01 -6.00000000e+00 ...  1.00000000e-02\n",
      "   3.60000000e+01  1.00000000e+00]\n",
      " [ 1.00000000e+00 -4.40000000e+00 -3.40000000e+00 ...  1.93600000e+01\n",
      "   1.15600000e+01  1.00000000e+00]\n",
      " ...\n",
      " [ 1.00000000e+00  2.56869493e+01 -3.72164553e+01 ...  6.59819365e+02\n",
      "   1.38506454e+03  9.24197980e+03]\n",
      " [ 1.00000000e+00  2.55009834e+01 -4.43315334e+01 ...  6.50300153e+02\n",
      "   1.96528485e+03  9.20832360e+03]\n",
      " [ 1.00000000e+00  2.41842972e+01 -4.99002823e+01 ...  5.84880232e+02\n",
      "   2.49003817e+03  9.25256726e+03]]\n"
     ]
    }
   ],
   "source": [
    "print(B)"
   ]
  },
  {
   "cell_type": "code",
   "execution_count": 422,
   "metadata": {},
   "outputs": [
    {
     "data": {
      "application/vnd.jupyter.widget-view+json": {
       "model_id": "229f286ccd7f40a495c3a1a5c1aa1678",
       "version_major": 2,
       "version_minor": 0
      },
      "text/plain": [
       "Renderer(camera=PerspectiveCamera(children=(DirectionalLight(color='white', intensity=0.6, position=(5.0, -23.…"
      ]
     },
     "metadata": {},
     "output_type": "display_data"
    },
    {
     "data": {
      "text/plain": [
       "<meshplot.Viewer.Viewer at 0x1a42ec43730>"
      ]
     },
     "execution_count": 422,
     "metadata": {},
     "output_type": "execute_result"
    }
   ],
   "source": [
    "mp.plot(x, shading={\"point_size\": 1.5,\"width\": 800, \"height\": 800})"
   ]
  },
  {
   "cell_type": "markdown",
   "metadata": {},
   "source": [
    "# MLS function"
   ]
  },
  {
   "cell_type": "code",
   "execution_count": 262,
   "metadata": {
    "scrolled": true
   },
   "outputs": [],
   "source": [
    "# Parameters\n",
    "bbox_min = np.array([-1., -1., -1.])\n",
    "bbox_max = np.array([1., 1., 1.])\n",
    "bbox_diag = np.linalg.norm(bbox_max - bbox_min)\n",
    "\n",
    "n = 10"
   ]
  },
  {
   "cell_type": "code",
   "execution_count": 430,
   "metadata": {
    "scrolled": false
   },
   "outputs": [],
   "source": [
    "# Generate grid n x n x n\n",
    "\n",
    "x, T = tet_grid((n, n, n), bbox_min - 0.05 * bbox_diag, bbox_max + 0.05 * bbox_diag)\n",
    "\n",
    "#Compute implicit sphere function\n",
    "center = np.array([0., 0., 0.])\n",
    "radius = 1\n",
    "fx = np.linalg.norm(x-center, axis=1) - radius\n",
    "\n",
    "#print(np.linalg.norm([-1.173, -1.173, -1.173]-center) - radius)\n",
    "#print(center)\n",
    "#print(radius)\n",
    "#print(x)\n",
    "#print(fx)"
   ]
  },
  {
   "cell_type": "code",
   "execution_count": 431,
   "metadata": {
    "scrolled": true
   },
   "outputs": [
    {
     "data": {
      "application/vnd.jupyter.widget-view+json": {
       "model_id": "d470381017764caaa998dc0cea298db4",
       "version_major": 2,
       "version_minor": 0
      },
      "text/plain": [
       "Renderer(camera=PerspectiveCamera(children=(DirectionalLight(color='white', intensity=0.6, position=(0.0, 0.0,…"
      ]
     },
     "metadata": {},
     "output_type": "display_data"
    },
    {
     "data": {
      "text/plain": [
       "<meshplot.Viewer.Viewer at 0x1a42e50b8e0>"
      ]
     },
     "execution_count": 431,
     "metadata": {},
     "output_type": "execute_result"
    }
   ],
   "source": [
    "# Treshold fx to visualize inside outside\n",
    "ind = np.zeros_like(fx)\n",
    "ind[fx >= 0] = 1\n",
    "\n",
    "ind[fx < 0] = -1\n",
    "mp.plot(x, c=ind, shading={\"point_size\": 0.1,\"width\": 800, \"height\": 800})"
   ]
  },
  {
   "cell_type": "markdown",
   "metadata": {},
   "source": [
    "# Marching to extract surface"
   ]
  },
  {
   "cell_type": "code",
   "execution_count": 265,
   "metadata": {
    "scrolled": false
   },
   "outputs": [
    {
     "data": {
      "application/vnd.jupyter.widget-view+json": {
       "model_id": "ff62caae31034321b639f47ceb363d23",
       "version_major": 2,
       "version_minor": 0
      },
      "text/plain": [
       "Renderer(camera=PerspectiveCamera(children=(DirectionalLight(color='white', intensity=0.6, position=(0.0, 0.0,…"
      ]
     },
     "metadata": {},
     "output_type": "display_data"
    },
    {
     "data": {
      "text/plain": [
       "<meshplot.Viewer.Viewer at 0x1a42dba5ab0>"
      ]
     },
     "execution_count": 265,
     "metadata": {},
     "output_type": "execute_result"
    }
   ],
   "source": [
    "# Marcing tet to extract surface\n",
    "\n",
    "sv, sf, _, _ = igl.marching_tets(x, T, fx, 0)\n",
    "mp.plot(sv, sf, shading={\"wireframe\": True})"
   ]
  },
  {
   "cell_type": "code",
   "execution_count": null,
   "metadata": {
    "scrolled": true
   },
   "outputs": [],
   "source": []
  }
 ],
 "metadata": {
  "kernelspec": {
   "display_name": "Python 3 (ipykernel)",
   "language": "python",
   "name": "python3"
  },
  "language_info": {
   "codemirror_mode": {
    "name": "ipython",
    "version": 3
   },
   "file_extension": ".py",
   "mimetype": "text/x-python",
   "name": "python",
   "nbconvert_exporter": "python",
   "pygments_lexer": "ipython3",
   "version": "3.10.9"
  }
 },
 "nbformat": 4,
 "nbformat_minor": 4
}
